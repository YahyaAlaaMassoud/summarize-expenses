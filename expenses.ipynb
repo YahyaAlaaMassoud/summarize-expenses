{
 "cells": [
  {
   "cell_type": "code",
   "execution_count": 9,
   "metadata": {},
   "outputs": [
    {
     "name": "stdout",
     "output_type": "stream",
     "text": [
      "Running on local URL:  http://127.0.0.1:7860\n",
      "\n",
      "To create a public link, set `share=True` in `launch()`.\n"
     ]
    },
    {
     "data": {
      "text/html": [
       "<div><iframe src=\"http://127.0.0.1:7860/\" width=\"100%\" height=\"500\" allow=\"autoplay; camera; microphone; clipboard-read; clipboard-write;\" frameborder=\"0\" allowfullscreen></iframe></div>"
      ],
      "text/plain": [
       "<IPython.core.display.HTML object>"
      ]
     },
     "metadata": {},
     "output_type": "display_data"
    },
    {
     "name": "stderr",
     "output_type": "stream",
     "text": [
      "Traceback (most recent call last):\n",
      "  File \"/home/user/anaconda3/envs/torchreid/lib/python3.8/site-packages/gradio/queueing.py\", line 528, in process_events\n",
      "    response = await route_utils.call_process_api(\n",
      "  File \"/home/user/anaconda3/envs/torchreid/lib/python3.8/site-packages/gradio/route_utils.py\", line 270, in call_process_api\n",
      "    output = await app.get_blocks().process_api(\n",
      "  File \"/home/user/anaconda3/envs/torchreid/lib/python3.8/site-packages/gradio/blocks.py\", line 1908, in process_api\n",
      "    result = await self.call_function(\n",
      "  File \"/home/user/anaconda3/envs/torchreid/lib/python3.8/site-packages/gradio/blocks.py\", line 1485, in call_function\n",
      "    prediction = await anyio.to_thread.run_sync(\n",
      "  File \"/home/user/anaconda3/envs/torchreid/lib/python3.8/site-packages/anyio/to_thread.py\", line 56, in run_sync\n",
      "    return await get_async_backend().run_sync_in_worker_thread(\n",
      "  File \"/home/user/anaconda3/envs/torchreid/lib/python3.8/site-packages/anyio/_backends/_asyncio.py\", line 2177, in run_sync_in_worker_thread\n",
      "    return await future\n",
      "  File \"/home/user/anaconda3/envs/torchreid/lib/python3.8/site-packages/anyio/_backends/_asyncio.py\", line 859, in run\n",
      "    result = context.run(func, *args)\n",
      "  File \"/home/user/anaconda3/envs/torchreid/lib/python3.8/site-packages/gradio/utils.py\", line 808, in wrapper\n",
      "    response = f(*args, **kwargs)\n",
      "  File \"/tmp/ipykernel_18841/65418303.py\", line 7, in load_excel_files\n",
      "    for file in file_objects:\n",
      "TypeError: 'NoneType' object is not iterable\n",
      "Traceback (most recent call last):\n",
      "  File \"/home/user/anaconda3/envs/torchreid/lib/python3.8/site-packages/gradio/queueing.py\", line 528, in process_events\n",
      "    response = await route_utils.call_process_api(\n",
      "  File \"/home/user/anaconda3/envs/torchreid/lib/python3.8/site-packages/gradio/route_utils.py\", line 270, in call_process_api\n",
      "    output = await app.get_blocks().process_api(\n",
      "  File \"/home/user/anaconda3/envs/torchreid/lib/python3.8/site-packages/gradio/blocks.py\", line 1908, in process_api\n",
      "    result = await self.call_function(\n",
      "  File \"/home/user/anaconda3/envs/torchreid/lib/python3.8/site-packages/gradio/blocks.py\", line 1485, in call_function\n",
      "    prediction = await anyio.to_thread.run_sync(\n",
      "  File \"/home/user/anaconda3/envs/torchreid/lib/python3.8/site-packages/anyio/to_thread.py\", line 56, in run_sync\n",
      "    return await get_async_backend().run_sync_in_worker_thread(\n",
      "  File \"/home/user/anaconda3/envs/torchreid/lib/python3.8/site-packages/anyio/_backends/_asyncio.py\", line 2177, in run_sync_in_worker_thread\n",
      "    return await future\n",
      "  File \"/home/user/anaconda3/envs/torchreid/lib/python3.8/site-packages/anyio/_backends/_asyncio.py\", line 859, in run\n",
      "    result = context.run(func, *args)\n",
      "  File \"/home/user/anaconda3/envs/torchreid/lib/python3.8/site-packages/gradio/utils.py\", line 808, in wrapper\n",
      "    response = f(*args, **kwargs)\n",
      "  File \"/tmp/ipykernel_18841/65418303.py\", line 7, in load_excel_files\n",
      "    for file in file_objects:\n",
      "TypeError: 'NoneType' object is not iterable\n"
     ]
    },
    {
     "name": "stdout",
     "output_type": "stream",
     "text": [
      "Keyboard interruption in main thread... closing server.\n"
     ]
    },
    {
     "data": {
      "text/plain": []
     },
     "execution_count": 9,
     "metadata": {},
     "output_type": "execute_result"
    }
   ],
   "source": [
    "import gradio as gr\n",
    "import pandas as pd\n",
    "import os\n",
    "\n",
    "def load_excel_files(file_objects):\n",
    "    dfs = []\n",
    "    for file in file_objects:\n",
    "        df = pd.read_excel(file.name)\n",
    "        df['Sheet Name'] = os.path.basename(file.name)\n",
    "        dfs.append(df[['Description', 'Price', 'Sheet Name']])\n",
    "    combined_df = pd.concat(dfs, ignore_index=True)\n",
    "    total_price = combined_df['Price'].sum()\n",
    "    return combined_df, combined_df, f\"Total Price: ${total_price:.2f}\"\n",
    "\n",
    "def search_data(dataframe, search_term):\n",
    "    if dataframe is None or dataframe.empty:\n",
    "        return pd.DataFrame(), \"Please upload Excel files first.\"\n",
    "    \n",
    "    filtered_df = dataframe[dataframe['Description'].str.contains(search_term, case=False, na=False)]\n",
    "    total = filtered_df['Price'].sum()\n",
    "    \n",
    "    summary = f\"Total: ${total:.2f}\"\n",
    "    \n",
    "    return filtered_df, summary\n",
    "\n",
    "def update_color(dataframe, row_index, color):\n",
    "    if dataframe is not None and not dataframe.empty:\n",
    "        dataframe.loc[row_index, 'Color'] = color\n",
    "    return dataframe\n",
    "\n",
    "def gradio_app():\n",
    "    with gr.Blocks() as app:\n",
    "        gr.Markdown(\"# Excel Search App\")\n",
    "        \n",
    "        dataframe = gr.State(None)\n",
    "        \n",
    "        with gr.Row():\n",
    "            file_input = gr.File(file_count=\"multiple\", label=\"Upload Excel Files\")\n",
    "\n",
    "        with gr.Tab(\"All Sheets\"):\n",
    "            all_sheets_table = gr.DataFrame(\n",
    "                label=\"All Sheets Data\", \n",
    "                interactive=False\n",
    "            )\n",
    "            all_sheets_total = gr.Textbox(label=\"Total Price\")\n",
    "\n",
    "        with gr.Tab(\"Search Keywords\"):\n",
    "            search_input = gr.Textbox(label=\"Search Term\")\n",
    "            result_table = gr.DataFrame(label=\"Search Results\")\n",
    "            total_output = gr.Textbox(label=\"Total\")\n",
    "        \n",
    "        with gr.Tab(\"Summary\"):\n",
    "            pass\n",
    "\n",
    "        file_input.change(\n",
    "            load_excel_files,\n",
    "            inputs=[file_input],\n",
    "            outputs=[\n",
    "                dataframe, \n",
    "                all_sheets_table,\n",
    "                all_sheets_total\n",
    "            ]\n",
    "        )\n",
    "        \n",
    "        search_input.change(\n",
    "            search_data,\n",
    "            inputs=[dataframe, search_input],\n",
    "            outputs=[result_table, total_output]\n",
    "        )\n",
    "\n",
    "        \n",
    "    \n",
    "    return app\n",
    "\n",
    "iface = gradio_app()\n",
    "iface.launch(server_port=7860, debug=True)"
   ]
  }
 ],
 "metadata": {
  "kernelspec": {
   "display_name": "Python 3.8.19 ('torchreid')",
   "language": "python",
   "name": "python3"
  },
  "language_info": {
   "codemirror_mode": {
    "name": "ipython",
    "version": 3
   },
   "file_extension": ".py",
   "mimetype": "text/x-python",
   "name": "python",
   "nbconvert_exporter": "python",
   "pygments_lexer": "ipython3",
   "version": "3.8.19"
  },
  "orig_nbformat": 4,
  "vscode": {
   "interpreter": {
    "hash": "e32991785712234106e48a5b3c29afc9e836b9338b449d9d36517838c17c0a94"
   }
  }
 },
 "nbformat": 4,
 "nbformat_minor": 2
}
